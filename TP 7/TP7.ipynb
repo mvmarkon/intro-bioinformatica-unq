{
 "cells": [
  {
   "cell_type": "markdown",
   "metadata": {},
   "source": [
    "# TP 7\n",
    "\n",
    "\n",
    "### RETO TI:\n",
    "#### ¿Podrías buscar un ejemplo de macromoléculas que almacenen información sobre la ‘identidad’ de una célula?\n",
    "\n",
    "El ejemplo mas comun es el ADN (ácido desoxirribonucleico). ADN es el nombre químico de la molécula que contiene la información genética en todos los seres vivos. La molécula de ADN consiste en dos cadenas que se enrollan entre ellas para formar una estructura de doble hélice. Cada cadena tiene una parte central formada por azúcares (desoxirribosa) y grupos fosfato. Enganchado a cada azúcar hay una de de las siguientes 4 bases: adenina (A), citosina (C), guanina (G), y timina (T). Las dos cadenas se mantienen unidas por enlaces entre las bases; la adenina se enlaza con la timina, y la citosina con la guanina. La secuencia de estas bases a lo largo de la cadena es lo que codifica las instrucciones para formar proteínas y moléculas de ARN.\n"
   ]
  },
  {
   "cell_type": "markdown",
   "metadata": {},
   "source": [
    "### RETO TI:\n",
    "##### Ahora bien, es importante conocer nuestra herramienta de trabajo, en este caso nuestra PC o teléfono inteligente.\n",
    "##### ¿Podrías identificar qué parte de la computadora estaremos trabajando?\n",
    "\n",
    "Software\n",
    "\n",
    "\n",
    "REVISAR"
   ]
  },
  {
   "cell_type": "markdown",
   "metadata": {},
   "source": [
    "### RETO I: ¿Podés descubrir y anotar el orden en que se ha ejecutado cada operación?\n",
    "#### ((4+5)*2)/5"
   ]
  },
  {
   "cell_type": "code",
   "execution_count": 32,
   "metadata": {},
   "outputs": [
    {
     "name": "stdout",
     "output_type": "stream",
     "text": [
      "4+5\n",
      "9*2\n",
      "18/5\n",
      "3.6\n",
      "3.6\n"
     ]
    }
   ],
   "source": [
    "def f1():\n",
    "    print('4+5')\n",
    "    return 4+5\n",
    "\n",
    "def f2(suma):\n",
    "    print('{}*2'.format(str(suma)))\n",
    "    return suma*2\n",
    "\n",
    "def f3(multiplicacion):\n",
    "    print('{}/5'.format(str(multiplicacion)))\n",
    "    return multiplicacion/5\n",
    "\n",
    "resultado = f3(f2(f1()))\n",
    "print(resultado)\n",
    "print(str(((4+5)*2)/5))"
   ]
  },
  {
   "cell_type": "markdown",
   "metadata": {},
   "source": [
    "Primero se ejecuta la suma que se encuentra entre parentesis, luego la multiplicación y por ultimo la división"
   ]
  },
  {
   "cell_type": "markdown",
   "metadata": {},
   "source": [
    "### RETO II: Creá una variable llamada ​ doble ​ , que sea el doble de la suma entre a y b."
   ]
  },
  {
   "cell_type": "code",
   "execution_count": 33,
   "metadata": {},
   "outputs": [
    {
     "name": "stdout",
     "output_type": "stream",
     "text": [
      "1010\n"
     ]
    }
   ],
   "source": [
    "a = 5\n",
    "b = 500\n",
    "doble = 2*(a+b)\n",
    "print(doble)"
   ]
  },
  {
   "cell_type": "markdown",
   "metadata": {},
   "source": [
    "### RETO III: \n",
    "Digamos que el ADN no es más que un mensaje en clave, que debe ser\n",
    "descifrado o interpretado para la síntesis de proteínas. El mensaje está escrito por\n",
    "una secuencia determinada de 4 nucleótidos distintos representados por las letras\n",
    "A, T, G y C. Dentro de la célula, el mensaje es transportado por otra molécula, el\n",
    "ARN, muy similar al ADN pero con U en vez de T. En este mensaje, cada triplete o\n",
    "grupo de tres letras del ARN se denomina codón, y cada aminoácido de las\n",
    "proteínas está codificado por uno o varios codones. Así por ejemplo el codón\n",
    "‘AUG’ codifica para el aminoácido Metionina , el codón ‘AAA’ para Lisina, el\n",
    "codón ‘CUA’ para Leucina, etc.\n",
    "    ¿Podrías escribir una cadena de ARN que codifique para el péptido (una cadena\n",
    "corta de aminoácidos) ‘Met-Lis-Lis-Lis-Leu-Leu-Met’ combinando las variables\n",
    "met = ‘AUG’ , lis = ‘AAA’ y leu = ‘CUA’ utilizando operadores matemáticos?"
   ]
  },
  {
   "cell_type": "code",
   "execution_count": 38,
   "metadata": {},
   "outputs": [
    {
     "name": "stdout",
     "output_type": "stream",
     "text": [
      "AUGAAAAAAAAACUACUAAUG\n"
     ]
    }
   ],
   "source": [
    "met = 'AUG'\n",
    "lis = 'AAA'\n",
    "leu = 'CUA'\n",
    "cadena = 'Met-Lis-Lis-Lis-Leu-Leu-Met'\n",
    "\n",
    "def codificar_cadena(peptido):\n",
    "    cadenaresultado=''\n",
    "    lista = cadena.split('-')\n",
    "    for aa in lista:\n",
    "        if aa == 'Met':\n",
    "            cadenaresultado += met\n",
    "        elif aa == 'Lis':\n",
    "            cadenaresultado += lis\n",
    "        elif aa == 'Leu':\n",
    "            cadenaresultado += leu\n",
    "        \n",
    "    return cadenaresultado\n",
    "\n",
    "print(codificar_cadena(cadena))\n"
   ]
  },
  {
   "cell_type": "markdown",
   "metadata": {},
   "source": [
    "### RETO IV:\n",
    "¿Cadenas?¿letras? Si hablamos de cadenas y letras en Biología, lo\n",
    "primero que se nos viene a la cabeza son las macromoléculas. Como bien\n",
    "sabemos, el ADN es un mensaje en clave que guía la síntesis de proteínas. Este\n",
    "mensaje está escrito por una secuencia determinada de 4 nucleótidos distintos\n",
    "representados por las letras A, T, G y C. El contenido de C y G (es decir el\n",
    "porcentaje de CG) presente en el ADN de un organismo es una característica\n",
    "distintiva: por ejemplo las ​ Actinobacterias ​ tienen un contenido\n",
    "característicamente más alto de CG que otros organismos. Ahora, contar la\n",
    "cantidad de C y G en una cadena de ADN larguísima a mano puede ser un\n",
    "verdadero tedio ¿Podrías crear un programa que calcule el porcentaje de C y G\n",
    "de una cadena dada de ADN?"
   ]
  },
  {
   "cell_type": "code",
   "execution_count": 14,
   "metadata": {},
   "outputs": [
    {
     "name": "stdout",
     "output_type": "stream",
     "text": [
      "Del nucleotido C en la secuencia hay 169 ocurrencias y representan un 14.811568799298861 %\n",
      "Del nucleotido G en la secuencia hay 194 ocurrencias y representan un 17.002629272567923 %\n",
      "La suma de los porcentajes del nucleotido C y del G es: 31.814198071866784 %\n",
      "De la cadena parcial CG en la secuencia hay 4 ocurrencias y representan un 0.35056967572305 %\n",
      "31.814198071866784\n"
     ]
    }
   ],
   "source": [
    "#Algunas secuencias paraa pruebas\n",
    "#s1 = 'AAAAAAAAAAAAAAAAAAAAAAAAAAAAAAAAAAAAAAAAAAAAAAAAAAAAAAAAAAAAAAAAAAAAAAAAAAAAAAAAAAAAAAAAAAAAAAAAAACC'\n",
    "#s2 = 'AAAAAAAAAG'\n",
    "#s3 = 'AAAAAAAACG'\n",
    "#s4 = 'CG'\n",
    "secuencia_ejemplo = 'TGATAAGAGTACCCAGAATAAAATGAATAACTTTTTAAAGACAAAATCCTCTGTTATAATATTGCTAAAATTATTCAGAGTAATATTGTGGATTAAAGCCACAATAAGATTTATAATCTTAAATGATGGGACTACCATCCTTACTCTCTCCATTTCAAGGCTGACGATAAGGAGACCTGCTTTGCCGAGGAGGTACTACAGTTCTCTTCACAAACAATTGTCTTACAAAATGAATAAAACAGCACTTTGTTTTTATCTCCTGCTTTTAATATGTCCAGTATTCATTTTTGCATGTTTGGTTAGGCTAGGGCTTAGGGATTTATATATCAAAGGAGGCTTTGTACATGTGGGACAGGGATCTTATTTTAGATTTATATATCAAAGGAGGCTTTGTACATGTGGGACAGGGATCTTATTTTACAAACAATTGTCTTACAAAATGAATAAAACAGCACTTTGTTTTTATCTCCTGCTCTATTGTGCCATACTGTTGAATGTTTATAATGCATGTTCTGTTTCCAAATTTCATGAAATCAAAACATTAATTTATTTAAACATTTACTTGAAATGTTCACAAACAATTGTCTTACAAAATGAATAAAACAGCACTTTGTTTTTATCTCCTGCTTTTAATATGTCCAGTATTCATTTTTGCATGTTTGGTTAGGCTAGGGCTTAGGGATTTATATATCAAAGGAGGCTTTGTACATGTGGGACAGGGATCTTATTTTAGATTTATATATCAAAGGAGGCTTTGTACATGTGGGACAGGGATCTTATTTTACAAACAATTGTCTTACAAAATGAATAAAACAGCACTTTGTTTTTATCTCCTGCTCTATTGTGCCATACTGTTGAATGTTTATAATGCATGTTCTGTTTCCAAATTTCATGAAATCAAAACATTAATTTATTTAAACATTTACTTGAAATGTGGTGGTTTGTGATTTAGTTGATTTTATAGGCTAGTGGGAGAATTTACATTCAAATGTCTAAATCACTTAAAATTTCCCTTTATGGCCTGACAGTAACTTTTTTTTATTCATTTGGGGACAACTATGTCCGTGAGCTTCCATCCAGAGATTATAGTAGTAAATTGTAATTAAAGGATATGATGCACGTGAAATCACTTTGCAATCAT'\n",
    "\n",
    "def porcentaje_nucleotido(cadena, nucleotido):\n",
    "    ocurrencias = cadena.count(nucleotido)\n",
    "    porcentaje = ocurrencias * 100 / len(cadena)\n",
    "    print('Del nucleotido {} en la secuencia hay {} ocurrencias y representan un {} %'.format(nucleotido,str(ocurrencias), porcentaje))\n",
    "    return porcentaje\n",
    "\n",
    "def porcentaje_cadena_parcial(cadena, cadenaparcial):\n",
    "    ocurrencias = cadena.count(cadenaparcial)\n",
    "    porcentaje = ocurrencias * 100 / len(cadena)\n",
    "    print('De la cadena parcial {} en la secuencia hay {} ocurrencias y representan un {} %'.format(cadenaparcial,str(ocurrencias), porcentaje))\n",
    "    return porcentaje\n",
    "\n",
    "\n",
    "def porcentaje_cg(cadena):\n",
    "    pc = porcentaje_nucleotido(cadena, 'C')\n",
    "    pg = porcentaje_nucleotido(cadena, 'G')\n",
    "    print('La suma de los porcentajes del nucleotido C y del G es: {} %'.format(pc+pg))\n",
    "    pcg = porcentaje_cadena_parcial(cadena,'CG')\n",
    "    return pc+pg\n",
    "\n",
    "print(porcentaje_cg(secuencia_ejemplo))"
   ]
  },
  {
   "cell_type": "markdown",
   "metadata": {},
   "source": [
    "### RETO V:\n",
    "La Asombrosa Maravillosa es nuestra valiente superheroína. Sus\n",
    "poderes son producto de mutaciones en un gen muy común, cuya secuencia en la\n",
    "mayoría de las personas es 'ATGGAACTTGCAATCGAAGTTGGC'. A diferencia\n",
    "de nosotros, el gen mutado de la Asombrosa Maravillosa incluye la secuencia\n",
    "'GTTTGTGGTTG' en su interior.\n",
    "La Asombrosa Maravillosa adquirió sus poderes al beber Jugo Vencido. El primer\n",
    "sorbo de esta poción prohibida causa el cambio de todas las citosinas (C) por\n",
    "timinas (T). El siguiente sorbo cambia todas las adeninas (A) por guaninas (G). El\n",
    "tercer sorbo cambia las citosinas (C) por adeninas (A). El cuarto sorbo... puede ser\n",
    "mortal.\n",
    "¿Podés escribir un programa que nos diga cuántos sorbos de Jugo Vencido debe\n",
    "beber un portador del gen normal, para ganar los poderes de la Asombrosa\n",
    "Maravillosa?"
   ]
  },
  {
   "cell_type": "code",
   "execution_count": 42,
   "metadata": {},
   "outputs": [
    {
     "name": "stdout",
     "output_type": "stream",
     "text": [
      "ATGGAATTTGTAATTGAAGTTGGT\n",
      "GTGGGGTTTGTGGTTGGGGTTGGT\n",
      "Es super al segundo sorbo\n"
     ]
    }
   ],
   "source": [
    "comun = 'ATGGAACTTGCAATCGAAGTTGGC'\n",
    "maravilla = 'GTTTGTGGTTG'\n",
    "\n",
    "def ya_es_maravilla(secuencia):\n",
    "    print(secuencia)\n",
    "    return maravilla in secuencia\n",
    "\n",
    "def conteo_super():\n",
    "    primer_sorbo = comun.replace('C','T')\n",
    "    if not ya_es_maravilla(primer_sorbo):\n",
    "        segundo_sorbo = primer_sorbo.replace('A', 'G')\n",
    "        if not ya_es_maravilla(segundo_sorbo):\n",
    "            tercer_sorbo = segundo_sorbo.replace('C', 'A')\n",
    "            if not ya_es_maravilla(tercer_sorbo):\n",
    "                print('CHEPACHO')\n",
    "            else:\n",
    "                print('Es super al tercer sorbo')\n",
    "        else:\n",
    "            print('Es super al segundo sorbo')\n",
    "    else:\n",
    "        print('Es super al primer sorbo')\n",
    "\n",
    "conteo_super()"
   ]
  },
  {
   "cell_type": "markdown",
   "metadata": {},
   "source": [
    "### RETO VI:\n",
    " ¿Se te ocurre qué operadores podrías usar para las listas?"
   ]
  },
  {
   "cell_type": "code",
   "execution_count": 66,
   "metadata": {},
   "outputs": [
    {
     "name": "stdout",
     "output_type": "stream",
     "text": [
      "['Patagotitan', 'Titanosaurus', 'Argentinosaurus']\n",
      "['Patagotitan', 'Argentinosaurus', 'Puertasaurus']\n",
      "#### UNIMOS DOS LISTAS ####\n",
      "['Patagotitan', 'Argentinosaurus', 'Puertasaurus', 'Agregasaurus']\n",
      "#### MULTIPLICAMOS UNA LISTA PO UN NUMERO Y DEVUELVE UNA LISTA QUE CONTIENE 2 VECES LA LISTA ORIGINAL ####\n",
      "['Patagotitan', 'Argentinosaurus', 'Puertasaurus', 'Agregasaurus', 'Patagotitan', 'Argentinosaurus', 'Puertasaurus', 'Agregasaurus']\n",
      "#### RECORREMOS LOS ELEMENTOS DE UNA LISTA IMPRIMIENDO Y CONTANDO A MEDIDA QUE LA RECORREMOS ####\n",
      "1Patagotitan\n",
      "2Argentinosaurus\n",
      "3Puertasaurus\n",
      "#### VEMOS LOS METODOS DISPONIBLES DE UNA CLASE. EN ESTE CASO DE UNA LISTA ####\n",
      "['__add__', '__class__', '__contains__', '__delattr__', '__delitem__', '__dir__', '__doc__', '__eq__', '__format__', '__ge__', '__getattribute__', '__getitem__', '__gt__', '__hash__', '__iadd__', '__imul__', '__init__', '__init_subclass__', '__iter__', '__le__', '__len__', '__lt__', '__mul__', '__ne__', '__new__', '__reduce__', '__reduce_ex__', '__repr__', '__reversed__', '__rmul__', '__setattr__', '__setitem__', '__sizeof__', '__str__', '__subclasshook__', 'append', 'clear', 'copy', 'count', 'extend', 'index', 'insert', 'pop', 'remove', 'reverse', 'sort']\n"
     ]
    }
   ],
   "source": [
    "dinos = ['Patagotitan', 'Titanosaurus', 'Argentinosaurus']\n",
    "print(dinos)\n",
    "dinos.append('Puertasaurus')\n",
    "dinos.remove('Titanosaurus')\n",
    "print(dinos)\n",
    "\n",
    "unir_listas = dinos + ['Agregasaurus']\n",
    "print('#### UNIMOS DOS LISTAS ####')\n",
    "print(unir_listas)\n",
    "\n",
    "print('#### MULTIPLICAMOS UNA LISTA PO UN NUMERO Y DEVUELVE UNA LISTA QUE CONTIENE 2 VECES LA LISTA ORIGINAL ####')\n",
    "mul_listas = unir_listas * 2\n",
    "print(mul_listas)\n",
    "\n",
    "print('#### RECORREMOS LOS ELEMENTOS DE UNA LISTA IMPRIMIENDO Y CONTANDO A MEDIDA QUE LA RECORREMOS ####')\n",
    "contador = 1\n",
    "for dino in dinos:\n",
    "    print(str(contador) + dino)\n",
    "    contador += 1\n",
    "\n",
    "print('#### VEMOS LOS METODOS DISPONIBLES DE UNA CLASE. EN ESTE CASO DE UNA LISTA ####')\n",
    "print(dir(dinos))"
   ]
  },
  {
   "cell_type": "markdown",
   "metadata": {},
   "source": [
    "### RETO VII: \n",
    "\n",
    "Ya que encontramos el espécimen de rana con pelo en marte, nos gustaría\n",
    "contrastar sus características con las ranas terrestres. Sabiendo que el gen de la proteína\n",
    "diminuta es ‘ATGGAAGTTGGAATCCAAGTTGGA’ y el gen de una proteína similar\n",
    "de rana terrestre es ‘ATGGAAGTTAATGGAAGTTGGAGGAGA’ ¿podés crear un\n",
    "programa que compare la longitud de ambos genes y según cuál sea más grande nos\n",
    "imprima un mensaje informándonos el resultado?\n",
    "\n"
   ]
  },
  {
   "cell_type": "code",
   "execution_count": 70,
   "metadata": {},
   "outputs": [
    {
     "name": "stdout",
     "output_type": "stream",
     "text": [
      "La mas grande es la terrestre\n"
     ]
    }
   ],
   "source": [
    "diminuta = 'ATGGAAGTTGGAATCCAAGTTGGA'\n",
    "terrestre = 'ATGGAAGTTAATGGAAGTTGGAGGAGA'\n",
    "\n",
    "def proteina_mas_grande():\n",
    "    print('La mas grande es la terrestre') if len(diminuta) < len(terrestre) else print('La mas grande es la marciana')\n",
    "\n",
    "proteina_mas_grande()"
   ]
  },
  {
   "cell_type": "markdown",
   "metadata": {},
   "source": [
    "### RETO VIII: \n",
    "Si nos ponemos un poco más estrictos, y siguiendo con el tema de los clones\n",
    "de bacterias, el programa que creamos antes tiene algunas fallas ‘numéricas’: en cada\n",
    "vuelta de división celular binaria se generarán dos clones, no uno. ¿Podrías escribir un\n",
    "programa que imprima ‘¡Somos 2 clones nuevos!’ en cada una de 20 vueltas?"
   ]
  },
  {
   "cell_type": "code",
   "execution_count": 71,
   "metadata": {},
   "outputs": [
    {
     "name": "stdout",
     "output_type": "stream",
     "text": [
      "Somos 2 clones nuevos\n",
      "Somos 2 clones nuevos\n",
      "Somos 2 clones nuevos\n",
      "Somos 2 clones nuevos\n",
      "Somos 2 clones nuevos\n",
      "Somos 2 clones nuevos\n",
      "Somos 2 clones nuevos\n",
      "Somos 2 clones nuevos\n",
      "Somos 2 clones nuevos\n",
      "Somos 2 clones nuevos\n",
      "Somos 2 clones nuevos\n",
      "Somos 2 clones nuevos\n",
      "Somos 2 clones nuevos\n",
      "Somos 2 clones nuevos\n",
      "Somos 2 clones nuevos\n",
      "Somos 2 clones nuevos\n",
      "Somos 2 clones nuevos\n",
      "Somos 2 clones nuevos\n",
      "Somos 2 clones nuevos\n",
      "Somos 2 clones nuevos\n"
     ]
    }
   ],
   "source": [
    "for i in range(0,20):\n",
    "    print('Somos 2 clones nuevos')"
   ]
  },
  {
   "cell_type": "markdown",
   "metadata": {},
   "source": [
    "### RETO IX: \n",
    "Si ahora queremos hacer nuestro programa un poco más estricto, por cada\n",
    "vuelta deberíamos sumar el total de células que tenemos e imprimir ese número en el\n",
    "mensaje. Entonces, por ejemplo, como en la primer vuelta tenemos dos células,\n",
    "imprimiríamos como mensaje ‘¡Somos 2 clones!’ , pero en la segunda vuelta serán en\n",
    "total 4 células y el mensaje a imprimir debería ser ‘¡Somos 4 clones!’. ¿Podrías escribir\n",
    "esta modificación del programa?"
   ]
  },
  {
   "cell_type": "code",
   "execution_count": 75,
   "metadata": {},
   "outputs": [
    {
     "name": "stdout",
     "output_type": "stream",
     "text": [
      "Somos 2 clones\n",
      "Somos 4 clones\n",
      "Somos 6 clones\n",
      "Somos 8 clones\n",
      "Somos 10 clones\n",
      "Somos 12 clones\n",
      "Somos 14 clones\n",
      "Somos 16 clones\n",
      "Somos 18 clones\n",
      "Somos 20 clones\n",
      "Somos 22 clones\n",
      "Somos 24 clones\n",
      "Somos 26 clones\n",
      "Somos 28 clones\n",
      "Somos 30 clones\n",
      "Somos 32 clones\n",
      "Somos 34 clones\n",
      "Somos 36 clones\n",
      "Somos 38 clones\n",
      "Somos 40 clones\n"
     ]
    }
   ],
   "source": [
    "for i in range(0,20):\n",
    "    print('Somos {} clones'.format(str((i+1)*2)))"
   ]
  },
  {
   "cell_type": "markdown",
   "metadata": {},
   "source": [
    "### RETO X: \n",
    "¿Te animás a pensar tus propios programas?¿Estás listo para un desafío?\n",
    "¡Anotate en el Concurso de Bioinformática para escuelas secundarias! Además, no te\n",
    "olvides de realizar la encuesta así sabemos cómo mejorar nuestros talleres."
   ]
  },
  {
   "cell_type": "code",
   "execution_count": 78,
   "metadata": {},
   "outputs": [
    {
     "data": {
      "text/plain": [
       "['__add__',\n",
       " '__class__',\n",
       " '__contains__',\n",
       " '__delattr__',\n",
       " '__delitem__',\n",
       " '__dir__',\n",
       " '__doc__',\n",
       " '__eq__',\n",
       " '__format__',\n",
       " '__ge__',\n",
       " '__getattribute__',\n",
       " '__getitem__',\n",
       " '__gt__',\n",
       " '__hash__',\n",
       " '__iadd__',\n",
       " '__imul__',\n",
       " '__init__',\n",
       " '__init_subclass__',\n",
       " '__iter__',\n",
       " '__le__',\n",
       " '__len__',\n",
       " '__lt__',\n",
       " '__mul__',\n",
       " '__ne__',\n",
       " '__new__',\n",
       " '__reduce__',\n",
       " '__reduce_ex__',\n",
       " '__repr__',\n",
       " '__reversed__',\n",
       " '__rmul__',\n",
       " '__setattr__',\n",
       " '__setitem__',\n",
       " '__sizeof__',\n",
       " '__str__',\n",
       " '__subclasshook__',\n",
       " 'append',\n",
       " 'clear',\n",
       " 'copy',\n",
       " 'count',\n",
       " 'extend',\n",
       " 'index',\n",
       " 'insert',\n",
       " 'pop',\n",
       " 'remove',\n",
       " 'reverse',\n",
       " 'sort']"
      ]
     },
     "execution_count": 78,
     "metadata": {},
     "output_type": "execute_result"
    }
   ],
   "source": [
    "dir([])"
   ]
  },
  {
   "cell_type": "code",
   "execution_count": null,
   "metadata": {},
   "outputs": [],
   "source": []
  }
 ],
 "metadata": {
  "kernelspec": {
   "display_name": "Python 3",
   "language": "python",
   "name": "python3"
  },
  "language_info": {
   "codemirror_mode": {
    "name": "ipython",
    "version": 3
   },
   "file_extension": ".py",
   "mimetype": "text/x-python",
   "name": "python",
   "nbconvert_exporter": "python",
   "pygments_lexer": "ipython3",
   "version": "3.7.6"
  }
 },
 "nbformat": 4,
 "nbformat_minor": 4
}
